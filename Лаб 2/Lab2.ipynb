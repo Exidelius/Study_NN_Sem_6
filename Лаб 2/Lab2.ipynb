{
 "cells": [
  {
   "cell_type": "code",
   "execution_count": 1,
   "metadata": {},
   "outputs": [],
   "source": [
    "import numpy as np\n",
    "import matplotlib.pyplot as plt\n",
    "from keras.datasets import mnist\n",
    "from tqdm.notebook import tqdm"
   ]
  },
  {
   "cell_type": "code",
   "execution_count": 11,
   "metadata": {},
   "outputs": [],
   "source": [
    "NEURONS_COUNT = 10\n",
    "EPOCH = 100\n",
    "LEARNING_SPEED = 0.1\n",
    "THETA = 0.5\n",
    "\n",
    "error = 0"
   ]
  },
  {
   "cell_type": "code",
   "execution_count": 3,
   "metadata": {},
   "outputs": [],
   "source": [
    "(data_train, label_train), (data_test, label_test) = mnist.load_data()"
   ]
  },
  {
   "cell_type": "code",
   "execution_count": 4,
   "metadata": {},
   "outputs": [],
   "source": [
    "data_train = np.array([data.flatten() / 255 for data in data_train])\n",
    "data_test = np.array([data.flatten() / 255 for data in data_test])"
   ]
  },
  {
   "cell_type": "code",
   "execution_count": 5,
   "metadata": {},
   "outputs": [],
   "source": [
    "train_length = len(data_train)\n",
    "test_length = len(data_test)"
   ]
  },
  {
   "cell_type": "code",
   "execution_count": 14,
   "metadata": {},
   "outputs": [],
   "source": [
    "class neuron:\n",
    "    _SIZE_OF_WEIGHTS = 784\n",
    "    _MSE_LOWER_LIMIT = 1e-4\n",
    "\n",
    "\n",
    "    def __init__(self, label: int, learning_speed = 0.01) -> None:\n",
    "        self._weights = np.array(np.random.uniform(-0.03, 0.03, self._SIZE_OF_WEIGHTS))\n",
    "        #print(self._weights)\n",
    "        self._bias = np.random.rand()\n",
    "        self._label = label\n",
    "        self._learning_speed = learning_speed\n",
    "        self._mse = 0\n",
    "\n",
    "        self._total_training_count = 0\n",
    "        self._total_test_count = 0\n",
    "\n",
    "        self._success_training_count = 0\n",
    "        self._success_test_count = 0\n",
    "\n",
    "\n",
    "    def __str__(self) -> str:\n",
    "        return str(self._label)\n",
    "\n",
    "\n",
    "    def train(self, inputed_value: np.ndarray, inputed_label: np.ndarray):\n",
    "        supposed_result = int(inputed_label == self._label)\n",
    "        \n",
    "        #while True:\n",
    "        result = self._get_sigmoid(inputed_value)\n",
    "\n",
    "        self._mse = self._get_mse(result, supposed_result)\n",
    "\n",
    "        if self._mse < self._MSE_LOWER_LIMIT:\n",
    "           return (self._mse, 0)\n",
    "        \n",
    "        self._total_training_count += 1\n",
    "\n",
    "        if (result >= 1 and supposed_result) or (result < 1 and not supposed_result):\n",
    "            self._success_training_count += 1\n",
    "            return (self._mse, 1)\n",
    "    \n",
    "        self._weights = self._get_new_weights(inputed_value, supposed_result)\n",
    "        self._bias += self._get_correction(inputed_value, supposed_result)\n",
    "\n",
    "\n",
    "    def try_smth(self, inputed_value: np.ndarray) -> float:\n",
    "        return np.dot(self._weights, inputed_value)\n",
    "\n",
    "    \n",
    "    def is_match(self, inputed_value: np.ndarray) -> float:\n",
    "        return self._get_sigmoid(inputed_value)\n",
    "\n",
    "\n",
    "    def get_mse(self) -> float:\n",
    "        return self._mse\n",
    "    \n",
    "\n",
    "    def get_training_accuracy(self) -> float:\n",
    "        return self._success_training_count / self._total_training_count\n",
    "\n",
    "\n",
    "    def _get_sigmoid(self, inputed_value: np.ndarray) -> float:\n",
    "        return 1 / (1 + np.exp(-(self._get_weighted_sum(inputed_value) + self._bias)))\n",
    "    \n",
    "\n",
    "    def _get_sigmoid_diff(self, sigmoid: float) -> float:\n",
    "        return sigmoid * (1 - sigmoid)\n",
    "    \n",
    "\n",
    "    def _get_learning_speed_coefficient(self, sigmoid: float, supposed_result: float) -> float:\n",
    "        return -(supposed_result - sigmoid) * self._get_sigmoid_diff(sigmoid)\n",
    "    \n",
    "\n",
    "    def _get_correction(self, inputed_value: np.ndarray, supposed_result: float) -> float:\n",
    "        (-self._learning_speed * self._get_learning_speed_coefficient(self._get_sigmoid(inputed_value), supposed_result))\n",
    "\n",
    "\n",
    "    def _get_weights_correction(self, inputed_value: np.ndarray, supposed_result: float) -> np.ndarray:\n",
    "        return self._get_correction(inputed_value, supposed_result) * inputed_value\n",
    "    \n",
    "\n",
    "    def _get_new_weights(self, inputed_value: np.ndarray, supposed_result: float) -> np.ndarray:\n",
    "        return self._weights + self._get_weights_correction(inputed_value, supposed_result)\n",
    "    \n",
    "    \n",
    "    def _get_weighted_sum(self, inputed_value: np.ndarray) -> float:\n",
    "        return np.dot(self._weights, inputed_value)\n",
    "    \n",
    "\n",
    "    def _get_mse(self, current_result: float, supposed_result: float) -> float:\n",
    "        return (supposed_result - current_result) * (supposed_result - current_result) / 2"
   ]
  },
  {
   "cell_type": "code",
   "execution_count": 15,
   "metadata": {},
   "outputs": [],
   "source": [
    "def get_neurons(count: int):\n",
    "    return [neuron(i, LEARNING_SPEED) for i in range(count)]"
   ]
  },
  {
   "cell_type": "code",
   "execution_count": 16,
   "metadata": {},
   "outputs": [],
   "source": [
    "neurons = get_neurons(NEURONS_COUNT)"
   ]
  },
  {
   "cell_type": "code",
   "execution_count": 17,
   "metadata": {},
   "outputs": [
    {
     "data": {
      "application/vnd.jupyter.widget-view+json": {
       "model_id": "c13cd69d7a91433cb6033c38a373231e",
       "version_major": 2,
       "version_minor": 0
      },
      "text/plain": [
       "Эпохи:   0%|          | 0/100 [00:00<?, ?it/s]"
      ]
     },
     "metadata": {},
     "output_type": "display_data"
    },
    {
     "data": {
      "application/vnd.jupyter.widget-view+json": {
       "model_id": "f449d94ad3a641638743c7cec28be72a",
       "version_major": 2,
       "version_minor": 0
      },
      "text/plain": [
       "Итерации:   0%|          | 0/60000 [00:00<?, ?it/s]"
      ]
     },
     "metadata": {},
     "output_type": "display_data"
    },
    {
     "data": {
      "application/vnd.jupyter.widget-view+json": {
       "model_id": "e3d2afe6d9004ab0886db5237c8d40d1",
       "version_major": 2,
       "version_minor": 0
      },
      "text/plain": [
       "Итерации:   0%|          | 0/60000 [00:00<?, ?it/s]"
      ]
     },
     "metadata": {},
     "output_type": "display_data"
    },
    {
     "data": {
      "application/vnd.jupyter.widget-view+json": {
       "model_id": "9d15bd9ce2194320acbb1d5f563c19de",
       "version_major": 2,
       "version_minor": 0
      },
      "text/plain": [
       "Итерации:   0%|          | 0/60000 [00:00<?, ?it/s]"
      ]
     },
     "metadata": {},
     "output_type": "display_data"
    },
    {
     "data": {
      "application/vnd.jupyter.widget-view+json": {
       "model_id": "e372541f78dc4010b4c77daa30b181e8",
       "version_major": 2,
       "version_minor": 0
      },
      "text/plain": [
       "Итерации:   0%|          | 0/60000 [00:00<?, ?it/s]"
      ]
     },
     "metadata": {},
     "output_type": "display_data"
    },
    {
     "data": {
      "application/vnd.jupyter.widget-view+json": {
       "model_id": "75003dd1c8f84070aca5466cb47525f9",
       "version_major": 2,
       "version_minor": 0
      },
      "text/plain": [
       "Итерации:   0%|          | 0/60000 [00:00<?, ?it/s]"
      ]
     },
     "metadata": {},
     "output_type": "display_data"
    },
    {
     "data": {
      "application/vnd.jupyter.widget-view+json": {
       "model_id": "e565388ea59849dfbacad01b6826dcb0",
       "version_major": 2,
       "version_minor": 0
      },
      "text/plain": [
       "Итерации:   0%|          | 0/60000 [00:00<?, ?it/s]"
      ]
     },
     "metadata": {},
     "output_type": "display_data"
    },
    {
     "data": {
      "application/vnd.jupyter.widget-view+json": {
       "model_id": "9d5f820f810f41728657914e01d07f91",
       "version_major": 2,
       "version_minor": 0
      },
      "text/plain": [
       "Итерации:   0%|          | 0/60000 [00:00<?, ?it/s]"
      ]
     },
     "metadata": {},
     "output_type": "display_data"
    },
    {
     "data": {
      "application/vnd.jupyter.widget-view+json": {
       "model_id": "8a0b3e0a1a0949de9f0d0ce155ea5933",
       "version_major": 2,
       "version_minor": 0
      },
      "text/plain": [
       "Итерации:   0%|          | 0/60000 [00:00<?, ?it/s]"
      ]
     },
     "metadata": {},
     "output_type": "display_data"
    },
    {
     "data": {
      "application/vnd.jupyter.widget-view+json": {
       "model_id": "8fc0eec32c0144d5b5bf90fdd9987693",
       "version_major": 2,
       "version_minor": 0
      },
      "text/plain": [
       "Итерации:   0%|          | 0/60000 [00:00<?, ?it/s]"
      ]
     },
     "metadata": {},
     "output_type": "display_data"
    },
    {
     "data": {
      "application/vnd.jupyter.widget-view+json": {
       "model_id": "cc7227fe51994ac58329c3438a2afe6f",
       "version_major": 2,
       "version_minor": 0
      },
      "text/plain": [
       "Итерации:   0%|          | 0/60000 [00:00<?, ?it/s]"
      ]
     },
     "metadata": {},
     "output_type": "display_data"
    },
    {
     "data": {
      "application/vnd.jupyter.widget-view+json": {
       "model_id": "fa6ddb04a28a42d18175bab2a46e0beb",
       "version_major": 2,
       "version_minor": 0
      },
      "text/plain": [
       "Итерации:   0%|          | 0/60000 [00:00<?, ?it/s]"
      ]
     },
     "metadata": {},
     "output_type": "display_data"
    },
    {
     "data": {
      "application/vnd.jupyter.widget-view+json": {
       "model_id": "004e61c832f549a19e5023279c9c41f4",
       "version_major": 2,
       "version_minor": 0
      },
      "text/plain": [
       "Итерации:   0%|          | 0/60000 [00:00<?, ?it/s]"
      ]
     },
     "metadata": {},
     "output_type": "display_data"
    },
    {
     "data": {
      "application/vnd.jupyter.widget-view+json": {
       "model_id": "9c8888ad4ba847e09661fa7b44173013",
       "version_major": 2,
       "version_minor": 0
      },
      "text/plain": [
       "Итерации:   0%|          | 0/60000 [00:00<?, ?it/s]"
      ]
     },
     "metadata": {},
     "output_type": "display_data"
    },
    {
     "data": {
      "application/vnd.jupyter.widget-view+json": {
       "model_id": "146f5285c4b84ff6bd9860c4a0f029c3",
       "version_major": 2,
       "version_minor": 0
      },
      "text/plain": [
       "Итерации:   0%|          | 0/60000 [00:00<?, ?it/s]"
      ]
     },
     "metadata": {},
     "output_type": "display_data"
    },
    {
     "data": {
      "application/vnd.jupyter.widget-view+json": {
       "model_id": "60e60a7533c448629191b634c071636c",
       "version_major": 2,
       "version_minor": 0
      },
      "text/plain": [
       "Итерации:   0%|          | 0/60000 [00:00<?, ?it/s]"
      ]
     },
     "metadata": {},
     "output_type": "display_data"
    },
    {
     "data": {
      "application/vnd.jupyter.widget-view+json": {
       "model_id": "ed5b16a382cb48a8960cb2e3d1e951aa",
       "version_major": 2,
       "version_minor": 0
      },
      "text/plain": [
       "Итерации:   0%|          | 0/60000 [00:00<?, ?it/s]"
      ]
     },
     "metadata": {},
     "output_type": "display_data"
    },
    {
     "data": {
      "application/vnd.jupyter.widget-view+json": {
       "model_id": "b3b223b4eb4344f0863483ad27a4c81b",
       "version_major": 2,
       "version_minor": 0
      },
      "text/plain": [
       "Итерации:   0%|          | 0/60000 [00:00<?, ?it/s]"
      ]
     },
     "metadata": {},
     "output_type": "display_data"
    },
    {
     "data": {
      "application/vnd.jupyter.widget-view+json": {
       "model_id": "d4a71c9c6953413cb61f9cb680a3b887",
       "version_major": 2,
       "version_minor": 0
      },
      "text/plain": [
       "Итерации:   0%|          | 0/60000 [00:00<?, ?it/s]"
      ]
     },
     "metadata": {},
     "output_type": "display_data"
    },
    {
     "data": {
      "application/vnd.jupyter.widget-view+json": {
       "model_id": "5eb1185113494958addea6ab87057931",
       "version_major": 2,
       "version_minor": 0
      },
      "text/plain": [
       "Итерации:   0%|          | 0/60000 [00:00<?, ?it/s]"
      ]
     },
     "metadata": {},
     "output_type": "display_data"
    },
    {
     "data": {
      "application/vnd.jupyter.widget-view+json": {
       "model_id": "310062ad818b471280d32ba6a6410027",
       "version_major": 2,
       "version_minor": 0
      },
      "text/plain": [
       "Итерации:   0%|          | 0/60000 [00:00<?, ?it/s]"
      ]
     },
     "metadata": {},
     "output_type": "display_data"
    },
    {
     "data": {
      "application/vnd.jupyter.widget-view+json": {
       "model_id": "8d60d74676224a50bb02c51ea0671ee2",
       "version_major": 2,
       "version_minor": 0
      },
      "text/plain": [
       "Итерации:   0%|          | 0/60000 [00:00<?, ?it/s]"
      ]
     },
     "metadata": {},
     "output_type": "display_data"
    },
    {
     "data": {
      "application/vnd.jupyter.widget-view+json": {
       "model_id": "b59313e291ee4d61bdc0e9f20ff9f311",
       "version_major": 2,
       "version_minor": 0
      },
      "text/plain": [
       "Итерации:   0%|          | 0/60000 [00:00<?, ?it/s]"
      ]
     },
     "metadata": {},
     "output_type": "display_data"
    },
    {
     "data": {
      "application/vnd.jupyter.widget-view+json": {
       "model_id": "4955d4a4d346471098a9e9ab8d1253ce",
       "version_major": 2,
       "version_minor": 0
      },
      "text/plain": [
       "Итерации:   0%|          | 0/60000 [00:00<?, ?it/s]"
      ]
     },
     "metadata": {},
     "output_type": "display_data"
    },
    {
     "data": {
      "application/vnd.jupyter.widget-view+json": {
       "model_id": "a127e5c387fe490592023604c1dc742a",
       "version_major": 2,
       "version_minor": 0
      },
      "text/plain": [
       "Итерации:   0%|          | 0/60000 [00:00<?, ?it/s]"
      ]
     },
     "metadata": {},
     "output_type": "display_data"
    },
    {
     "data": {
      "application/vnd.jupyter.widget-view+json": {
       "model_id": "6930ec547ba349d0924260776ea71131",
       "version_major": 2,
       "version_minor": 0
      },
      "text/plain": [
       "Итерации:   0%|          | 0/60000 [00:00<?, ?it/s]"
      ]
     },
     "metadata": {},
     "output_type": "display_data"
    },
    {
     "data": {
      "application/vnd.jupyter.widget-view+json": {
       "model_id": "ab259d3269ee4a8f9ae381b9acdb6b16",
       "version_major": 2,
       "version_minor": 0
      },
      "text/plain": [
       "Итерации:   0%|          | 0/60000 [00:00<?, ?it/s]"
      ]
     },
     "metadata": {},
     "output_type": "display_data"
    },
    {
     "data": {
      "application/vnd.jupyter.widget-view+json": {
       "model_id": "ddde8f674d95402eb01ed1ec7a3918dd",
       "version_major": 2,
       "version_minor": 0
      },
      "text/plain": [
       "Итерации:   0%|          | 0/60000 [00:00<?, ?it/s]"
      ]
     },
     "metadata": {},
     "output_type": "display_data"
    },
    {
     "data": {
      "application/vnd.jupyter.widget-view+json": {
       "model_id": "e612fa5a003a4ea8b9346002b5d6faaa",
       "version_major": 2,
       "version_minor": 0
      },
      "text/plain": [
       "Итерации:   0%|          | 0/60000 [00:00<?, ?it/s]"
      ]
     },
     "metadata": {},
     "output_type": "display_data"
    },
    {
     "data": {
      "application/vnd.jupyter.widget-view+json": {
       "model_id": "37471fb8a7fb4b1abf6334ee0c41113e",
       "version_major": 2,
       "version_minor": 0
      },
      "text/plain": [
       "Итерации:   0%|          | 0/60000 [00:00<?, ?it/s]"
      ]
     },
     "metadata": {},
     "output_type": "display_data"
    },
    {
     "data": {
      "application/vnd.jupyter.widget-view+json": {
       "model_id": "49bb7cac35ad4d06845bdf8900219dbb",
       "version_major": 2,
       "version_minor": 0
      },
      "text/plain": [
       "Итерации:   0%|          | 0/60000 [00:00<?, ?it/s]"
      ]
     },
     "metadata": {},
     "output_type": "display_data"
    },
    {
     "data": {
      "application/vnd.jupyter.widget-view+json": {
       "model_id": "5dbbfae1c95d4e8b99bd3b92b1ffb180",
       "version_major": 2,
       "version_minor": 0
      },
      "text/plain": [
       "Итерации:   0%|          | 0/60000 [00:00<?, ?it/s]"
      ]
     },
     "metadata": {},
     "output_type": "display_data"
    },
    {
     "data": {
      "application/vnd.jupyter.widget-view+json": {
       "model_id": "07870ad94cbc46db8050e44fa75d15cc",
       "version_major": 2,
       "version_minor": 0
      },
      "text/plain": [
       "Итерации:   0%|          | 0/60000 [00:00<?, ?it/s]"
      ]
     },
     "metadata": {},
     "output_type": "display_data"
    },
    {
     "data": {
      "application/vnd.jupyter.widget-view+json": {
       "model_id": "0ae157c416c3472ba0da973ce660645b",
       "version_major": 2,
       "version_minor": 0
      },
      "text/plain": [
       "Итерации:   0%|          | 0/60000 [00:00<?, ?it/s]"
      ]
     },
     "metadata": {},
     "output_type": "display_data"
    },
    {
     "data": {
      "application/vnd.jupyter.widget-view+json": {
       "model_id": "fbae6d24eaa742debcfba38182de7b27",
       "version_major": 2,
       "version_minor": 0
      },
      "text/plain": [
       "Итерации:   0%|          | 0/60000 [00:00<?, ?it/s]"
      ]
     },
     "metadata": {},
     "output_type": "display_data"
    },
    {
     "data": {
      "application/vnd.jupyter.widget-view+json": {
       "model_id": "4d688070ed4540ed915517a29309088d",
       "version_major": 2,
       "version_minor": 0
      },
      "text/plain": [
       "Итерации:   0%|          | 0/60000 [00:00<?, ?it/s]"
      ]
     },
     "metadata": {},
     "output_type": "display_data"
    },
    {
     "data": {
      "application/vnd.jupyter.widget-view+json": {
       "model_id": "613df9e706ab43ce8d6c182cad52a552",
       "version_major": 2,
       "version_minor": 0
      },
      "text/plain": [
       "Итерации:   0%|          | 0/60000 [00:00<?, ?it/s]"
      ]
     },
     "metadata": {},
     "output_type": "display_data"
    },
    {
     "data": {
      "application/vnd.jupyter.widget-view+json": {
       "model_id": "da2599506bf24d299247ea7212695fda",
       "version_major": 2,
       "version_minor": 0
      },
      "text/plain": [
       "Итерации:   0%|          | 0/60000 [00:00<?, ?it/s]"
      ]
     },
     "metadata": {},
     "output_type": "display_data"
    },
    {
     "data": {
      "application/vnd.jupyter.widget-view+json": {
       "model_id": "adcf6735acce4ee0917571ca55373bdc",
       "version_major": 2,
       "version_minor": 0
      },
      "text/plain": [
       "Итерации:   0%|          | 0/60000 [00:00<?, ?it/s]"
      ]
     },
     "metadata": {},
     "output_type": "display_data"
    },
    {
     "data": {
      "application/vnd.jupyter.widget-view+json": {
       "model_id": "2b9431a31cba4adaaf21dabe0a290c35",
       "version_major": 2,
       "version_minor": 0
      },
      "text/plain": [
       "Итерации:   0%|          | 0/60000 [00:00<?, ?it/s]"
      ]
     },
     "metadata": {},
     "output_type": "display_data"
    },
    {
     "data": {
      "application/vnd.jupyter.widget-view+json": {
       "model_id": "be01914cc0ca4b509d79d2966c40dd64",
       "version_major": 2,
       "version_minor": 0
      },
      "text/plain": [
       "Итерации:   0%|          | 0/60000 [00:00<?, ?it/s]"
      ]
     },
     "metadata": {},
     "output_type": "display_data"
    },
    {
     "data": {
      "application/vnd.jupyter.widget-view+json": {
       "model_id": "d10346c5dc2b48d38a3eddb181e94629",
       "version_major": 2,
       "version_minor": 0
      },
      "text/plain": [
       "Итерации:   0%|          | 0/60000 [00:00<?, ?it/s]"
      ]
     },
     "metadata": {},
     "output_type": "display_data"
    },
    {
     "data": {
      "application/vnd.jupyter.widget-view+json": {
       "model_id": "c8c52b00d29c4f5d860921d9d3e20c41",
       "version_major": 2,
       "version_minor": 0
      },
      "text/plain": [
       "Итерации:   0%|          | 0/60000 [00:00<?, ?it/s]"
      ]
     },
     "metadata": {},
     "output_type": "display_data"
    },
    {
     "data": {
      "application/vnd.jupyter.widget-view+json": {
       "model_id": "f0584c1ce0c649d19d2e9d8af58563e8",
       "version_major": 2,
       "version_minor": 0
      },
      "text/plain": [
       "Итерации:   0%|          | 0/60000 [00:00<?, ?it/s]"
      ]
     },
     "metadata": {},
     "output_type": "display_data"
    },
    {
     "data": {
      "application/vnd.jupyter.widget-view+json": {
       "model_id": "abc5e5daca3a46319d442b3ecdc9ae60",
       "version_major": 2,
       "version_minor": 0
      },
      "text/plain": [
       "Итерации:   0%|          | 0/60000 [00:00<?, ?it/s]"
      ]
     },
     "metadata": {},
     "output_type": "display_data"
    },
    {
     "data": {
      "application/vnd.jupyter.widget-view+json": {
       "model_id": "f35916133edb40c29a35d1a9538ec8e4",
       "version_major": 2,
       "version_minor": 0
      },
      "text/plain": [
       "Итерации:   0%|          | 0/60000 [00:00<?, ?it/s]"
      ]
     },
     "metadata": {},
     "output_type": "display_data"
    },
    {
     "data": {
      "application/vnd.jupyter.widget-view+json": {
       "model_id": "584f466569754f308371dac1dd4d3b11",
       "version_major": 2,
       "version_minor": 0
      },
      "text/plain": [
       "Итерации:   0%|          | 0/60000 [00:00<?, ?it/s]"
      ]
     },
     "metadata": {},
     "output_type": "display_data"
    },
    {
     "data": {
      "application/vnd.jupyter.widget-view+json": {
       "model_id": "9afe5ee2d3284e30899129d8d22a044f",
       "version_major": 2,
       "version_minor": 0
      },
      "text/plain": [
       "Итерации:   0%|          | 0/60000 [00:00<?, ?it/s]"
      ]
     },
     "metadata": {},
     "output_type": "display_data"
    },
    {
     "data": {
      "application/vnd.jupyter.widget-view+json": {
       "model_id": "a286cc7d2a6d43ceb219d8411a8eabf3",
       "version_major": 2,
       "version_minor": 0
      },
      "text/plain": [
       "Итерации:   0%|          | 0/60000 [00:00<?, ?it/s]"
      ]
     },
     "metadata": {},
     "output_type": "display_data"
    },
    {
     "data": {
      "application/vnd.jupyter.widget-view+json": {
       "model_id": "b0508340d41a435891e117c2e9be25c0",
       "version_major": 2,
       "version_minor": 0
      },
      "text/plain": [
       "Итерации:   0%|          | 0/60000 [00:00<?, ?it/s]"
      ]
     },
     "metadata": {},
     "output_type": "display_data"
    },
    {
     "data": {
      "application/vnd.jupyter.widget-view+json": {
       "model_id": "5e1c2c259f4849c8bd5011afe071683f",
       "version_major": 2,
       "version_minor": 0
      },
      "text/plain": [
       "Итерации:   0%|          | 0/60000 [00:00<?, ?it/s]"
      ]
     },
     "metadata": {},
     "output_type": "display_data"
    },
    {
     "data": {
      "application/vnd.jupyter.widget-view+json": {
       "model_id": "9292a0c84c0149dfb92b86bf0871d172",
       "version_major": 2,
       "version_minor": 0
      },
      "text/plain": [
       "Итерации:   0%|          | 0/60000 [00:00<?, ?it/s]"
      ]
     },
     "metadata": {},
     "output_type": "display_data"
    },
    {
     "data": {
      "application/vnd.jupyter.widget-view+json": {
       "model_id": "98a1917ccda84eb3b8e18246117f0650",
       "version_major": 2,
       "version_minor": 0
      },
      "text/plain": [
       "Итерации:   0%|          | 0/60000 [00:00<?, ?it/s]"
      ]
     },
     "metadata": {},
     "output_type": "display_data"
    },
    {
     "data": {
      "application/vnd.jupyter.widget-view+json": {
       "model_id": "b3ec4410425d4dcc8d16eee35b8b1e77",
       "version_major": 2,
       "version_minor": 0
      },
      "text/plain": [
       "Итерации:   0%|          | 0/60000 [00:00<?, ?it/s]"
      ]
     },
     "metadata": {},
     "output_type": "display_data"
    },
    {
     "data": {
      "application/vnd.jupyter.widget-view+json": {
       "model_id": "141db1506ccf4b97a8dadfb090ccd790",
       "version_major": 2,
       "version_minor": 0
      },
      "text/plain": [
       "Итерации:   0%|          | 0/60000 [00:00<?, ?it/s]"
      ]
     },
     "metadata": {},
     "output_type": "display_data"
    },
    {
     "data": {
      "application/vnd.jupyter.widget-view+json": {
       "model_id": "0f41dc0dad2049b69642e2f1286a5167",
       "version_major": 2,
       "version_minor": 0
      },
      "text/plain": [
       "Итерации:   0%|          | 0/60000 [00:00<?, ?it/s]"
      ]
     },
     "metadata": {},
     "output_type": "display_data"
    },
    {
     "data": {
      "application/vnd.jupyter.widget-view+json": {
       "model_id": "93bb4b99dc754e42a42447109bb351e1",
       "version_major": 2,
       "version_minor": 0
      },
      "text/plain": [
       "Итерации:   0%|          | 0/60000 [00:00<?, ?it/s]"
      ]
     },
     "metadata": {},
     "output_type": "display_data"
    },
    {
     "data": {
      "application/vnd.jupyter.widget-view+json": {
       "model_id": "6e673e35a9fa441fa2878f8f79a5d543",
       "version_major": 2,
       "version_minor": 0
      },
      "text/plain": [
       "Итерации:   0%|          | 0/60000 [00:00<?, ?it/s]"
      ]
     },
     "metadata": {},
     "output_type": "display_data"
    },
    {
     "data": {
      "application/vnd.jupyter.widget-view+json": {
       "model_id": "c43a03832bda4b5b9a65b40db3ea392a",
       "version_major": 2,
       "version_minor": 0
      },
      "text/plain": [
       "Итерации:   0%|          | 0/60000 [00:00<?, ?it/s]"
      ]
     },
     "metadata": {},
     "output_type": "display_data"
    },
    {
     "data": {
      "application/vnd.jupyter.widget-view+json": {
       "model_id": "396fc1e1a04d49bfb8c73c2994e9897e",
       "version_major": 2,
       "version_minor": 0
      },
      "text/plain": [
       "Итерации:   0%|          | 0/60000 [00:00<?, ?it/s]"
      ]
     },
     "metadata": {},
     "output_type": "display_data"
    },
    {
     "data": {
      "application/vnd.jupyter.widget-view+json": {
       "model_id": "883ad042bb724d51b6c441820dd7c31a",
       "version_major": 2,
       "version_minor": 0
      },
      "text/plain": [
       "Итерации:   0%|          | 0/60000 [00:00<?, ?it/s]"
      ]
     },
     "metadata": {},
     "output_type": "display_data"
    },
    {
     "data": {
      "application/vnd.jupyter.widget-view+json": {
       "model_id": "dec38d1916a24fc185621873db1d1129",
       "version_major": 2,
       "version_minor": 0
      },
      "text/plain": [
       "Итерации:   0%|          | 0/60000 [00:00<?, ?it/s]"
      ]
     },
     "metadata": {},
     "output_type": "display_data"
    },
    {
     "data": {
      "application/vnd.jupyter.widget-view+json": {
       "model_id": "04b28f52c3da471d8eec7a46476af550",
       "version_major": 2,
       "version_minor": 0
      },
      "text/plain": [
       "Итерации:   0%|          | 0/60000 [00:00<?, ?it/s]"
      ]
     },
     "metadata": {},
     "output_type": "display_data"
    },
    {
     "data": {
      "application/vnd.jupyter.widget-view+json": {
       "model_id": "63e86c9c6830423db3ca6dd33b4757a7",
       "version_major": 2,
       "version_minor": 0
      },
      "text/plain": [
       "Итерации:   0%|          | 0/60000 [00:00<?, ?it/s]"
      ]
     },
     "metadata": {},
     "output_type": "display_data"
    },
    {
     "data": {
      "application/vnd.jupyter.widget-view+json": {
       "model_id": "5456b9e231d44dc38c416801bf8c7edd",
       "version_major": 2,
       "version_minor": 0
      },
      "text/plain": [
       "Итерации:   0%|          | 0/60000 [00:00<?, ?it/s]"
      ]
     },
     "metadata": {},
     "output_type": "display_data"
    },
    {
     "data": {
      "application/vnd.jupyter.widget-view+json": {
       "model_id": "b08881f9f4f54a1d888eeeb028fce8ec",
       "version_major": 2,
       "version_minor": 0
      },
      "text/plain": [
       "Итерации:   0%|          | 0/60000 [00:00<?, ?it/s]"
      ]
     },
     "metadata": {},
     "output_type": "display_data"
    },
    {
     "data": {
      "application/vnd.jupyter.widget-view+json": {
       "model_id": "a951472e349f4008835c2613d7568259",
       "version_major": 2,
       "version_minor": 0
      },
      "text/plain": [
       "Итерации:   0%|          | 0/60000 [00:00<?, ?it/s]"
      ]
     },
     "metadata": {},
     "output_type": "display_data"
    },
    {
     "data": {
      "application/vnd.jupyter.widget-view+json": {
       "model_id": "3a18699fd597429280f2abea52d6667f",
       "version_major": 2,
       "version_minor": 0
      },
      "text/plain": [
       "Итерации:   0%|          | 0/60000 [00:00<?, ?it/s]"
      ]
     },
     "metadata": {},
     "output_type": "display_data"
    },
    {
     "data": {
      "application/vnd.jupyter.widget-view+json": {
       "model_id": "d760339954ff44b69979b603659bc67e",
       "version_major": 2,
       "version_minor": 0
      },
      "text/plain": [
       "Итерации:   0%|          | 0/60000 [00:00<?, ?it/s]"
      ]
     },
     "metadata": {},
     "output_type": "display_data"
    },
    {
     "data": {
      "application/vnd.jupyter.widget-view+json": {
       "model_id": "f0a2e00f63904dec908853cb9eb5e096",
       "version_major": 2,
       "version_minor": 0
      },
      "text/plain": [
       "Итерации:   0%|          | 0/60000 [00:00<?, ?it/s]"
      ]
     },
     "metadata": {},
     "output_type": "display_data"
    },
    {
     "data": {
      "application/vnd.jupyter.widget-view+json": {
       "model_id": "0cd52625315d4fc5a49111b86f62a897",
       "version_major": 2,
       "version_minor": 0
      },
      "text/plain": [
       "Итерации:   0%|          | 0/60000 [00:00<?, ?it/s]"
      ]
     },
     "metadata": {},
     "output_type": "display_data"
    },
    {
     "data": {
      "application/vnd.jupyter.widget-view+json": {
       "model_id": "46f2e2e16a7d462299efa857515c9129",
       "version_major": 2,
       "version_minor": 0
      },
      "text/plain": [
       "Итерации:   0%|          | 0/60000 [00:00<?, ?it/s]"
      ]
     },
     "metadata": {},
     "output_type": "display_data"
    },
    {
     "data": {
      "application/vnd.jupyter.widget-view+json": {
       "model_id": "24767c5db7db45c99a0be1d31fb35300",
       "version_major": 2,
       "version_minor": 0
      },
      "text/plain": [
       "Итерации:   0%|          | 0/60000 [00:00<?, ?it/s]"
      ]
     },
     "metadata": {},
     "output_type": "display_data"
    },
    {
     "data": {
      "application/vnd.jupyter.widget-view+json": {
       "model_id": "ce57b06194b44acf86e24aa9096a48ff",
       "version_major": 2,
       "version_minor": 0
      },
      "text/plain": [
       "Итерации:   0%|          | 0/60000 [00:00<?, ?it/s]"
      ]
     },
     "metadata": {},
     "output_type": "display_data"
    },
    {
     "data": {
      "application/vnd.jupyter.widget-view+json": {
       "model_id": "bf14eb5722d04155bad0bdb3778287ac",
       "version_major": 2,
       "version_minor": 0
      },
      "text/plain": [
       "Итерации:   0%|          | 0/60000 [00:00<?, ?it/s]"
      ]
     },
     "metadata": {},
     "output_type": "display_data"
    },
    {
     "data": {
      "application/vnd.jupyter.widget-view+json": {
       "model_id": "66062fd7722b4c459817b4e97ce266a8",
       "version_major": 2,
       "version_minor": 0
      },
      "text/plain": [
       "Итерации:   0%|          | 0/60000 [00:00<?, ?it/s]"
      ]
     },
     "metadata": {},
     "output_type": "display_data"
    },
    {
     "data": {
      "application/vnd.jupyter.widget-view+json": {
       "model_id": "e9d27772020f40fbbbcd2ea4b5a24885",
       "version_major": 2,
       "version_minor": 0
      },
      "text/plain": [
       "Итерации:   0%|          | 0/60000 [00:00<?, ?it/s]"
      ]
     },
     "metadata": {},
     "output_type": "display_data"
    },
    {
     "data": {
      "application/vnd.jupyter.widget-view+json": {
       "model_id": "ac64a5a5c5e24dbeacb33ad01570e309",
       "version_major": 2,
       "version_minor": 0
      },
      "text/plain": [
       "Итерации:   0%|          | 0/60000 [00:00<?, ?it/s]"
      ]
     },
     "metadata": {},
     "output_type": "display_data"
    },
    {
     "data": {
      "application/vnd.jupyter.widget-view+json": {
       "model_id": "d7be341df20745a784763473a5213db6",
       "version_major": 2,
       "version_minor": 0
      },
      "text/plain": [
       "Итерации:   0%|          | 0/60000 [00:00<?, ?it/s]"
      ]
     },
     "metadata": {},
     "output_type": "display_data"
    },
    {
     "data": {
      "application/vnd.jupyter.widget-view+json": {
       "model_id": "f935263044df4eddb907eea198d4a798",
       "version_major": 2,
       "version_minor": 0
      },
      "text/plain": [
       "Итерации:   0%|          | 0/60000 [00:00<?, ?it/s]"
      ]
     },
     "metadata": {},
     "output_type": "display_data"
    },
    {
     "data": {
      "application/vnd.jupyter.widget-view+json": {
       "model_id": "55f48a7f9d6f435fb2fa7e08c558aaa0",
       "version_major": 2,
       "version_minor": 0
      },
      "text/plain": [
       "Итерации:   0%|          | 0/60000 [00:00<?, ?it/s]"
      ]
     },
     "metadata": {},
     "output_type": "display_data"
    },
    {
     "data": {
      "application/vnd.jupyter.widget-view+json": {
       "model_id": "7df018df2aec4b08b9fd803c33aca068",
       "version_major": 2,
       "version_minor": 0
      },
      "text/plain": [
       "Итерации:   0%|          | 0/60000 [00:00<?, ?it/s]"
      ]
     },
     "metadata": {},
     "output_type": "display_data"
    },
    {
     "data": {
      "application/vnd.jupyter.widget-view+json": {
       "model_id": "712f5501a2ff4b7b84bcca667b98fbcc",
       "version_major": 2,
       "version_minor": 0
      },
      "text/plain": [
       "Итерации:   0%|          | 0/60000 [00:00<?, ?it/s]"
      ]
     },
     "metadata": {},
     "output_type": "display_data"
    },
    {
     "data": {
      "application/vnd.jupyter.widget-view+json": {
       "model_id": "c66477bf21b44d0491029baefd448ea0",
       "version_major": 2,
       "version_minor": 0
      },
      "text/plain": [
       "Итерации:   0%|          | 0/60000 [00:00<?, ?it/s]"
      ]
     },
     "metadata": {},
     "output_type": "display_data"
    },
    {
     "data": {
      "application/vnd.jupyter.widget-view+json": {
       "model_id": "0b7722c8b88f4954bbd07d05ffc9e59c",
       "version_major": 2,
       "version_minor": 0
      },
      "text/plain": [
       "Итерации:   0%|          | 0/60000 [00:00<?, ?it/s]"
      ]
     },
     "metadata": {},
     "output_type": "display_data"
    },
    {
     "data": {
      "application/vnd.jupyter.widget-view+json": {
       "model_id": "fe3b9293291640c1b1fdfa9426118468",
       "version_major": 2,
       "version_minor": 0
      },
      "text/plain": [
       "Итерации:   0%|          | 0/60000 [00:00<?, ?it/s]"
      ]
     },
     "metadata": {},
     "output_type": "display_data"
    },
    {
     "data": {
      "application/vnd.jupyter.widget-view+json": {
       "model_id": "cff080c0ec1a49d69c3ff50bcf89f198",
       "version_major": 2,
       "version_minor": 0
      },
      "text/plain": [
       "Итерации:   0%|          | 0/60000 [00:00<?, ?it/s]"
      ]
     },
     "metadata": {},
     "output_type": "display_data"
    },
    {
     "data": {
      "application/vnd.jupyter.widget-view+json": {
       "model_id": "81d787c5ccf248c2852fe625cc907f07",
       "version_major": 2,
       "version_minor": 0
      },
      "text/plain": [
       "Итерации:   0%|          | 0/60000 [00:00<?, ?it/s]"
      ]
     },
     "metadata": {},
     "output_type": "display_data"
    },
    {
     "data": {
      "application/vnd.jupyter.widget-view+json": {
       "model_id": "8cef6a9266584f35969a46c8dac5ff50",
       "version_major": 2,
       "version_minor": 0
      },
      "text/plain": [
       "Итерации:   0%|          | 0/60000 [00:00<?, ?it/s]"
      ]
     },
     "metadata": {},
     "output_type": "display_data"
    },
    {
     "data": {
      "application/vnd.jupyter.widget-view+json": {
       "model_id": "0d3e9897e99a44be81e64a89c3076121",
       "version_major": 2,
       "version_minor": 0
      },
      "text/plain": [
       "Итерации:   0%|          | 0/60000 [00:00<?, ?it/s]"
      ]
     },
     "metadata": {},
     "output_type": "display_data"
    },
    {
     "data": {
      "application/vnd.jupyter.widget-view+json": {
       "model_id": "d003b1d32b244aa5a00ddd8f91a7d984",
       "version_major": 2,
       "version_minor": 0
      },
      "text/plain": [
       "Итерации:   0%|          | 0/60000 [00:00<?, ?it/s]"
      ]
     },
     "metadata": {},
     "output_type": "display_data"
    },
    {
     "data": {
      "application/vnd.jupyter.widget-view+json": {
       "model_id": "3c05afaeb13a45fcacbe71b61748e9b9",
       "version_major": 2,
       "version_minor": 0
      },
      "text/plain": [
       "Итерации:   0%|          | 0/60000 [00:00<?, ?it/s]"
      ]
     },
     "metadata": {},
     "output_type": "display_data"
    },
    {
     "data": {
      "application/vnd.jupyter.widget-view+json": {
       "model_id": "7bca2b4334f148a3b78f89ba2ec5c127",
       "version_major": 2,
       "version_minor": 0
      },
      "text/plain": [
       "Итерации:   0%|          | 0/60000 [00:00<?, ?it/s]"
      ]
     },
     "metadata": {},
     "output_type": "display_data"
    },
    {
     "data": {
      "application/vnd.jupyter.widget-view+json": {
       "model_id": "a0519b69d5754629b05a14ed5c086c91",
       "version_major": 2,
       "version_minor": 0
      },
      "text/plain": [
       "Итерации:   0%|          | 0/60000 [00:00<?, ?it/s]"
      ]
     },
     "metadata": {},
     "output_type": "display_data"
    },
    {
     "data": {
      "application/vnd.jupyter.widget-view+json": {
       "model_id": "2239a6a211714cfbbf1193c41359b93d",
       "version_major": 2,
       "version_minor": 0
      },
      "text/plain": [
       "Итерации:   0%|          | 0/60000 [00:00<?, ?it/s]"
      ]
     },
     "metadata": {},
     "output_type": "display_data"
    },
    {
     "data": {
      "application/vnd.jupyter.widget-view+json": {
       "model_id": "50edbf66717f4444978deec947cf323d",
       "version_major": 2,
       "version_minor": 0
      },
      "text/plain": [
       "Итерации:   0%|          | 0/60000 [00:00<?, ?it/s]"
      ]
     },
     "metadata": {},
     "output_type": "display_data"
    },
    {
     "data": {
      "application/vnd.jupyter.widget-view+json": {
       "model_id": "136c98f96a27460ab5f38dbf86aac3b6",
       "version_major": 2,
       "version_minor": 0
      },
      "text/plain": [
       "Итерации:   0%|          | 0/60000 [00:00<?, ?it/s]"
      ]
     },
     "metadata": {},
     "output_type": "display_data"
    },
    {
     "data": {
      "application/vnd.jupyter.widget-view+json": {
       "model_id": "b6bb1fc33f264fa9b9706f2c0794a0b7",
       "version_major": 2,
       "version_minor": 0
      },
      "text/plain": [
       "Итерации:   0%|          | 0/60000 [00:00<?, ?it/s]"
      ]
     },
     "metadata": {},
     "output_type": "display_data"
    },
    {
     "data": {
      "application/vnd.jupyter.widget-view+json": {
       "model_id": "c7b35ea19f97456fae5df7de8a58ddfd",
       "version_major": 2,
       "version_minor": 0
      },
      "text/plain": [
       "Итерации:   0%|          | 0/60000 [00:00<?, ?it/s]"
      ]
     },
     "metadata": {},
     "output_type": "display_data"
    },
    {
     "data": {
      "application/vnd.jupyter.widget-view+json": {
       "model_id": "1b4f72ac73594b869590100a399cf767",
       "version_major": 2,
       "version_minor": 0
      },
      "text/plain": [
       "Итерации:   0%|          | 0/60000 [00:00<?, ?it/s]"
      ]
     },
     "metadata": {},
     "output_type": "display_data"
    },
    {
     "data": {
      "application/vnd.jupyter.widget-view+json": {
       "model_id": "9477c0e058b84d7fbb4255277d9f77ad",
       "version_major": 2,
       "version_minor": 0
      },
      "text/plain": [
       "Итерации:   0%|          | 0/60000 [00:00<?, ?it/s]"
      ]
     },
     "metadata": {},
     "output_type": "display_data"
    }
   ],
   "source": [
    "for _ in tqdm(range(EPOCH), 'Эпохи'):\n",
    "    for (data, label) in tqdm(zip(data_train, label_train), 'Итерации', total=train_length):\n",
    "        for neuron in neurons:\n",
    "            neuron.train(data, label)"
   ]
  },
  {
   "cell_type": "code",
   "execution_count": 18,
   "metadata": {},
   "outputs": [
    {
     "name": "stdout",
     "output_type": "stream",
     "text": [
      "4688 / 10000\n"
     ]
    }
   ],
   "source": [
    "counter = 0\n",
    "for data, label in zip (data_test, label_test):\n",
    "    biggest_match = 0\n",
    "    neuron_label = -1\n",
    "    for neuron in neurons:\n",
    "        current_match = neuron.is_match(data)\n",
    "        if current_match > biggest_match:\n",
    "            biggest_match = current_match\n",
    "            neuron_label = int(str(neuron))\n",
    "    if neuron_label == label:\n",
    "        counter += 1\n",
    "print(f\"{counter} / {test_length}\")"
   ]
  },
  {
   "cell_type": "code",
   "execution_count": 45,
   "metadata": {},
   "outputs": [],
   "source": [
    "b = 0.4"
   ]
  },
  {
   "cell_type": "code",
   "execution_count": 48,
   "metadata": {},
   "outputs": [
    {
     "data": {
      "text/plain": [
       "0.401312339887548"
      ]
     },
     "execution_count": 48,
     "metadata": {},
     "output_type": "execute_result"
    }
   ],
   "source": [
    "1/(1+np.exp(b))"
   ]
  },
  {
   "cell_type": "code",
   "execution_count": 80,
   "metadata": {},
   "outputs": [
    {
     "data": {
      "text/plain": [
       "7"
      ]
     },
     "execution_count": 80,
     "metadata": {},
     "output_type": "execute_result"
    }
   ],
   "source": [
    "np.dot(np.array([1,2]), np.array([3,2]))"
   ]
  },
  {
   "cell_type": "code",
   "execution_count": 131,
   "metadata": {},
   "outputs": [
    {
     "data": {
      "text/plain": [
       "53.76427527873895"
      ]
     },
     "execution_count": 131,
     "metadata": {},
     "output_type": "execute_result"
    }
   ],
   "source": [
    "np.dot(data_train[0], data_train[1])"
   ]
  },
  {
   "cell_type": "code",
   "execution_count": null,
   "metadata": {},
   "outputs": [],
   "source": []
  }
 ],
 "metadata": {
  "kernelspec": {
   "display_name": "Python 3",
   "language": "python",
   "name": "python3"
  },
  "language_info": {
   "codemirror_mode": {
    "name": "ipython",
    "version": 3
   },
   "file_extension": ".py",
   "mimetype": "text/x-python",
   "name": "python",
   "nbconvert_exporter": "python",
   "pygments_lexer": "ipython3",
   "version": "3.10.8"
  },
  "orig_nbformat": 4
 },
 "nbformat": 4,
 "nbformat_minor": 2
}
