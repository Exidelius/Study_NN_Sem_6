{
 "cells": [
  {
   "cell_type": "code",
   "execution_count": 1,
   "metadata": {},
   "outputs": [],
   "source": [
    "import numpy as np\n",
    "import matplotlib.pyplot as plt\n",
    "from keras.datasets import mnist\n",
    "from tqdm.notebook import tqdm"
   ]
  },
  {
   "cell_type": "code",
   "execution_count": 13,
   "metadata": {},
   "outputs": [],
   "source": [
    "NEURONS_COUNT = 10\n",
    "EPOCH = 10\n",
    "LEARNING_SPEED = 0.1\n",
    "MSE_LOWER_LIMIT = 1e-16\n",
    "MSE_LOWER_DIFFERENCE = 1e-15"
   ]
  },
  {
   "cell_type": "code",
   "execution_count": 14,
   "metadata": {},
   "outputs": [],
   "source": [
    "(data_train, label_train), (data_test, label_test) = mnist.load_data()"
   ]
  },
  {
   "cell_type": "code",
   "execution_count": 15,
   "metadata": {},
   "outputs": [],
   "source": [
    "data_train = np.array([data.flatten() / 255 for data in data_train])\n",
    "data_test = np.array([data.flatten() / 255 for data in data_test])"
   ]
  },
  {
   "cell_type": "code",
   "execution_count": 16,
   "metadata": {},
   "outputs": [],
   "source": [
    "train_length = len(data_train)\n",
    "test_length = len(data_test)"
   ]
  },
  {
   "cell_type": "code",
   "execution_count": 17,
   "metadata": {},
   "outputs": [],
   "source": [
    "class Neuron:\n",
    "    _SIZE_OF_WEIGHTS = 784\n",
    "\n",
    "\n",
    "    def __init__(self, label: int, learning_speed = 0.01) -> None:\n",
    "        self._weights = np.array(np.random.uniform(-0.03, 0.03, self._SIZE_OF_WEIGHTS))\n",
    "        self._bias = np.random.rand()\n",
    "        self._label = label\n",
    "        self._learning_speed = learning_speed\n",
    "        self._mse = 0\n",
    "\n",
    "\n",
    "    def __str__(self) -> str:\n",
    "        return str(self._label)\n",
    "\n",
    "\n",
    "    def train(self, inputed_value: np.ndarray, inputed_label: np.ndarray):\n",
    "        supposed_result = int(inputed_label == self._label)\n",
    "        weighted_sum = self._get_weighted_sum(inputed_value)\n",
    "        sigmoid = self._get_sigmoid(weighted_sum)\n",
    "\n",
    "        self._mse = self._get_mse(sigmoid, supposed_result)        \n",
    "        \n",
    "        self._weights, self._bias = self._get_corrected_values(inputed_value, supposed_result, sigmoid)\n",
    "\n",
    "    \n",
    "    def get_match_value(self, inputed_value: np.ndarray) -> float:\n",
    "        return self._get_sigmoid(self._get_weighted_sum(inputed_value))\n",
    "\n",
    "\n",
    "    def get_local_error(self) -> float:\n",
    "        return self._mse\n",
    "\n",
    "\n",
    "    def _get_sigmoid(self, weighted_sum: np.ndarray) -> float:\n",
    "        return 1 / (1 + np.exp(-weighted_sum))\n",
    "    \n",
    "\n",
    "    def _get_sigmoid_diff(self, sigmoid: float) -> float:\n",
    "        return sigmoid * (1 - sigmoid)\n",
    "    \n",
    "\n",
    "    def _get_learning_speed_coefficient(self, sigmoid: float, supposed_result: float) -> float:\n",
    "        return -(supposed_result - sigmoid) * self._get_sigmoid_diff(sigmoid)\n",
    "    \n",
    "\n",
    "    def _get_correction(self, sigmoid: float, supposed_result: float) -> float:\n",
    "        return -self._learning_speed * self._get_learning_speed_coefficient(sigmoid, supposed_result)\n",
    "    \n",
    "\n",
    "    def _get_corrected_values(self, inputed_value: np.ndarray, supposed_result: float, sigmoid: float) -> np.ndarray:\n",
    "        correction = self._get_correction(sigmoid, supposed_result)\n",
    "        return (self._weights + correction * inputed_value, self._bias + correction)\n",
    "    \n",
    "    \n",
    "    def _get_weighted_sum(self, inputed_value: np.ndarray) -> float:\n",
    "        return np.dot(self._weights, inputed_value) + self._bias\n",
    "    \n",
    "\n",
    "    def _get_mse(self, current_result: float, supposed_result: float) -> float:\n",
    "        return (supposed_result - current_result) * (supposed_result - current_result) / 2"
   ]
  },
  {
   "cell_type": "code",
   "execution_count": 18,
   "metadata": {},
   "outputs": [],
   "source": [
    "def get_neurons(count: int):\n",
    "    return [Neuron(i, LEARNING_SPEED) for i in range(count)]"
   ]
  },
  {
   "cell_type": "code",
   "execution_count": 19,
   "metadata": {},
   "outputs": [],
   "source": [
    "def train(train_data, train_label, neurons):\n",
    "    success_count: float = 0\n",
    "    total_count: float = 0\n",
    "    mse: float = 0\n",
    "\n",
    "    previous_mse_epoch = 0\n",
    "    for _ in tqdm(range(EPOCH), 'Эпохи'):\n",
    "        previous_mse = 0\n",
    "        mse_epoch = 0\n",
    "\n",
    "        for (data, label) in tqdm(zip(train_data, train_label), 'Итерации', total=train_length):\n",
    "            mse = 0\n",
    "\n",
    "            for neuron in neurons:\n",
    "                result = neuron.train(data, label)\n",
    "\n",
    "                mse += neuron.get_local_error()\n",
    "\n",
    "                success_count += int((str(label) == str(neuron)) and neuron.get_match_value(data) >= 0.5)\n",
    "                total_count += 1\n",
    "\n",
    "            mse /= NEURONS_COUNT\n",
    "            mse_epoch += mse\n",
    "            \n",
    "            if mse < MSE_LOWER_LIMIT:\n",
    "                return (success_count / total_count, mse)\n",
    "            \n",
    "            previous_mse = mse\n",
    "\n",
    "        mse_epoch /= train_length\n",
    "\n",
    "        if abs(mse_epoch - previous_mse_epoch) < MSE_LOWER_DIFFERENCE:\n",
    "            return (success_count / total_count, mse)\n",
    "        \n",
    "        previous_mse_epoch = mse_epoch\n",
    "            \n",
    "\n",
    "    return (success_count / total_count, mse)"
   ]
  },
  {
   "cell_type": "code",
   "execution_count": 20,
   "metadata": {},
   "outputs": [],
   "source": [
    "def test(test_data, test_label, neurons):\n",
    "    counter = 0\n",
    "    for data, label in zip(test_data, test_label):\n",
    "        biggest_match = 0\n",
    "        neuron_label = -1\n",
    "\n",
    "        for neuron in neurons:\n",
    "            current_match = neuron.get_match_value(data)\n",
    "\n",
    "            if current_match > biggest_match:\n",
    "                biggest_match = current_match\n",
    "                neuron_label = int(str(neuron))\n",
    "\n",
    "        if neuron_label == label and biggest_match > 0.5:\n",
    "            counter += 1\n",
    "\n",
    "    return counter / test_length"
   ]
  },
  {
   "cell_type": "code",
   "execution_count": 21,
   "metadata": {},
   "outputs": [],
   "source": [
    "neurons = get_neurons(NEURONS_COUNT)"
   ]
  },
  {
   "cell_type": "code",
   "execution_count": 22,
   "metadata": {},
   "outputs": [
    {
     "data": {
      "application/vnd.jupyter.widget-view+json": {
       "model_id": "71cdfa04b1d04b7bbceb07a2bb6a806f",
       "version_major": 2,
       "version_minor": 0
      },
      "text/plain": [
       "Эпохи:   0%|          | 0/10 [00:00<?, ?it/s]"
      ]
     },
     "metadata": {},
     "output_type": "display_data"
    },
    {
     "data": {
      "application/vnd.jupyter.widget-view+json": {
       "model_id": "5aa7b0b7c0264a5592be80e34abe0087",
       "version_major": 2,
       "version_minor": 0
      },
      "text/plain": [
       "Итерации:   0%|          | 0/60000 [00:00<?, ?it/s]"
      ]
     },
     "metadata": {},
     "output_type": "display_data"
    },
    {
     "data": {
      "application/vnd.jupyter.widget-view+json": {
       "model_id": "b4bbf13ffb6a4bcba6b5637eedbd58f0",
       "version_major": 2,
       "version_minor": 0
      },
      "text/plain": [
       "Итерации:   0%|          | 0/60000 [00:00<?, ?it/s]"
      ]
     },
     "metadata": {},
     "output_type": "display_data"
    },
    {
     "data": {
      "application/vnd.jupyter.widget-view+json": {
       "model_id": "81907fda58bd42a3956545cc484a84c6",
       "version_major": 2,
       "version_minor": 0
      },
      "text/plain": [
       "Итерации:   0%|          | 0/60000 [00:00<?, ?it/s]"
      ]
     },
     "metadata": {},
     "output_type": "display_data"
    },
    {
     "data": {
      "application/vnd.jupyter.widget-view+json": {
       "model_id": "bc74e26f427649349ab9bd631353b496",
       "version_major": 2,
       "version_minor": 0
      },
      "text/plain": [
       "Итерации:   0%|          | 0/60000 [00:00<?, ?it/s]"
      ]
     },
     "metadata": {},
     "output_type": "display_data"
    },
    {
     "data": {
      "application/vnd.jupyter.widget-view+json": {
       "model_id": "b36fd380c4ae45e18d9d6f81ea5ff12d",
       "version_major": 2,
       "version_minor": 0
      },
      "text/plain": [
       "Итерации:   0%|          | 0/60000 [00:00<?, ?it/s]"
      ]
     },
     "metadata": {},
     "output_type": "display_data"
    },
    {
     "data": {
      "application/vnd.jupyter.widget-view+json": {
       "model_id": "a8306cec7e374040944c369511e61ea4",
       "version_major": 2,
       "version_minor": 0
      },
      "text/plain": [
       "Итерации:   0%|          | 0/60000 [00:00<?, ?it/s]"
      ]
     },
     "metadata": {},
     "output_type": "display_data"
    },
    {
     "data": {
      "application/vnd.jupyter.widget-view+json": {
       "model_id": "dc91cc8157d848c1af8a3b2ed61d0421",
       "version_major": 2,
       "version_minor": 0
      },
      "text/plain": [
       "Итерации:   0%|          | 0/60000 [00:00<?, ?it/s]"
      ]
     },
     "metadata": {},
     "output_type": "display_data"
    },
    {
     "data": {
      "application/vnd.jupyter.widget-view+json": {
       "model_id": "ce2b7f67b58a41b3a4a791ac954c6972",
       "version_major": 2,
       "version_minor": 0
      },
      "text/plain": [
       "Итерации:   0%|          | 0/60000 [00:00<?, ?it/s]"
      ]
     },
     "metadata": {},
     "output_type": "display_data"
    },
    {
     "name": "stdout",
     "output_type": "stream",
     "text": [
      "(0.09037312076925585, 5.702167510432691e-17)\n"
     ]
    }
   ],
   "source": [
    "print(train(data_train, label_train, neurons))"
   ]
  },
  {
   "cell_type": "code",
   "execution_count": 23,
   "metadata": {},
   "outputs": [
    {
     "data": {
      "text/plain": [
       "0.8596"
      ]
     },
     "execution_count": 23,
     "metadata": {},
     "output_type": "execute_result"
    }
   ],
   "source": [
    "test(data_test, label_test, neurons)"
   ]
  },
  {
   "cell_type": "code",
   "execution_count": null,
   "metadata": {},
   "outputs": [],
   "source": []
  }
 ],
 "metadata": {
  "kernelspec": {
   "display_name": "Python 3",
   "language": "python",
   "name": "python3"
  },
  "language_info": {
   "codemirror_mode": {
    "name": "ipython",
    "version": 3
   },
   "file_extension": ".py",
   "mimetype": "text/x-python",
   "name": "python",
   "nbconvert_exporter": "python",
   "pygments_lexer": "ipython3",
   "version": "3.10.8"
  },
  "orig_nbformat": 4
 },
 "nbformat": 4,
 "nbformat_minor": 2
}
