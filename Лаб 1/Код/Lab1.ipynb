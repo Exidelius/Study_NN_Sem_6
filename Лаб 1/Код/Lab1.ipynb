{
 "cells": [
  {
   "cell_type": "code",
   "execution_count": 34,
   "metadata": {},
   "outputs": [],
   "source": [
    "import numpy as np\n",
    "from PIL import Image"
   ]
  },
  {
   "cell_type": "code",
   "execution_count": 35,
   "metadata": {},
   "outputs": [
    {
     "name": "stdout",
     "output_type": "stream",
     "text": [
      "сигма: 0.7021621205875256\n"
     ]
    }
   ],
   "source": [
    "PATH = 'C:\\\\Нейронки\\\\Лаб 1\\\\Датасет\\\\'\n",
    "\n",
    "nums_letters = ['С', 'Т', 'Е', 'П']\n",
    "imgs = list()\n",
    "net = [0 for _ in range(4)]\n",
    "\n",
    "#sigm = np.random.rand()*1024\n",
    "sigm = np.random.rand()\n",
    "print('сигма: ' + str(sigm))\n",
    "\n",
    "weights = [np.random.rand(1024) for _ in range(4)]\n",
    "\n",
    "total_learning_count = 0\n",
    "true_learning_count = 0\n",
    "\n",
    "total_test_count = 0\n",
    "true_test_count = 0"
   ]
  },
  {
   "attachments": {},
   "cell_type": "markdown",
   "metadata": {},
   "source": [
    "Получение данных"
   ]
  },
  {
   "cell_type": "code",
   "execution_count": 36,
   "metadata": {},
   "outputs": [],
   "source": [
    "def image_to_np_array(img):\n",
    "    return np.array(img.convert('L'), dtype='float').flatten()/255"
   ]
  },
  {
   "cell_type": "code",
   "execution_count": 37,
   "metadata": {},
   "outputs": [],
   "source": [
    "def f(total, current_sigma):\n",
    "    if total >= current_sigma: \n",
    "        return 1\n",
    "    \n",
    "    return 0"
   ]
  },
  {
   "cell_type": "code",
   "execution_count": 38,
   "metadata": {},
   "outputs": [],
   "source": [
    "for i in range(len(nums_letters)):\n",
    "    current_path = PATH + nums_letters[i] + '\\\\' + nums_letters[i]\n",
    "    imgs.append(list())\n",
    "    for j in range(1,len(nums_letters)+1):\n",
    "        imgs[i].append(image_to_np_array(Image.open(current_path + str(j)+'.png')))"
   ]
  },
  {
   "attachments": {},
   "cell_type": "markdown",
   "metadata": {},
   "source": [
    "Обучение"
   ]
  },
  {
   "cell_type": "code",
   "execution_count": 33,
   "metadata": {},
   "outputs": [],
   "source": [
    "total_learning_count = 0\n",
    "true_learning_count = 0\n",
    "\n",
    "is_true = False\n",
    "prev_net = [-1 for _ in range(len(net))]\n",
    "while not is_true:\n",
    "    is_true = True\n",
    "    for current in range(len(net)):\n",
    "        if net[current] == prev_net[current]:\n",
    "            continue\n",
    "\n",
    "        prev_net[current] = net[current]\n",
    "        is_true = False\n",
    "\n",
    "        for i in range(len(imgs)):\n",
    "            for j in range(len(imgs[i])-1):\n",
    "                net[current] = np.sum(np.multiply(weights[current],imgs[i][j]))\n",
    "                is_match = f(net[current], sigm)\n",
    "                \n",
    "                total_learning_count+=1\n",
    "\n",
    "                if is_match and current != i:\n",
    "                    weights[current]-=imgs[i][j]\n",
    "                    continue\n",
    "\n",
    "                if not is_match and current == i:\n",
    "                    weights[current]+=imgs[i][j]\n",
    "                    continue\n",
    "\n",
    "                true_learning_count += 1\n"
   ]
  },
  {
   "cell_type": "code",
   "execution_count": 20,
   "metadata": {},
   "outputs": [
    {
     "name": "stdout",
     "output_type": "stream",
     "text": [
      "Точность при обучении: 0.8287037037037037\n"
     ]
    }
   ],
   "source": [
    "print(\"Точность при обучении: \" + str(true_learning_count/total_learning_count))"
   ]
  },
  {
   "cell_type": "code",
   "execution_count": 39,
   "metadata": {},
   "outputs": [],
   "source": [
    "total_learning_count = 0\n",
    "true_learning_count = 0\n",
    "\n",
    "\n",
    "for _ in range(100):\n",
    "    for current in range(len(net)):    \n",
    "        for i in range(len(imgs)):\n",
    "            for j in range(len(imgs[i])-1):\n",
    "                net[current] = np.sum(np.multiply(weights[current],imgs[i][j]))\n",
    "                is_match = f(net[current], sigm)\n",
    "    \n",
    "                total_learning_count+=1\n",
    "    \n",
    "                if is_match and current != i:\n",
    "                    weights[current]-=imgs[i][j]\n",
    "                    continue\n",
    "                \n",
    "                if not is_match and current == i:\n",
    "                    weights[current]+=imgs[i][j]\n",
    "                    continue\n",
    "                \n",
    "                true_learning_count += 1"
   ]
  },
  {
   "cell_type": "code",
   "execution_count": 40,
   "metadata": {},
   "outputs": [
    {
     "name": "stdout",
     "output_type": "stream",
     "text": [
      "Точность при обучении: 0.9777083333333333\n"
     ]
    }
   ],
   "source": [
    "print(\"Точность при обучении: \" + str(true_learning_count/total_learning_count))"
   ]
  },
  {
   "cell_type": "code",
   "execution_count": 41,
   "metadata": {},
   "outputs": [],
   "source": [
    "def get_letter_from_image(img):\n",
    "    for i in range(len(imgs)):\n",
    "        if f(sum([img[m]*weights[i][m] for m in range(1024)]), sigm):\n",
    "            return nums_letters[i]\n",
    "    return \"Не удалось распознать\""
   ]
  },
  {
   "cell_type": "code",
   "execution_count": 42,
   "metadata": {},
   "outputs": [],
   "source": [
    "def test_from_assets(letter):\n",
    "    letters = {'С': 0, 'Т': 1, 'Е': 2, 'П': 3}\n",
    "    return get_letter_from_image(imgs[letters[letter]][3])"
   ]
  },
  {
   "cell_type": "code",
   "execution_count": 43,
   "metadata": {},
   "outputs": [],
   "source": [
    "total_test_count = 0\n",
    "true_test_count = 0"
   ]
  },
  {
   "cell_type": "code",
   "execution_count": 44,
   "metadata": {},
   "outputs": [],
   "source": [
    "def test(letter):\n",
    "    global total_test_count\n",
    "    global true_test_count\n",
    "\n",
    "    total_test_count += 1\n",
    "\n",
    "    result = test_from_assets(letter)\n",
    "    print('Буква на картинке: ' + str(result))\n",
    "\n",
    "    if letter == result:\n",
    "        true_test_count+=1\n",
    "    \n",
    "    print(\"Точность при обучении: \" + str(true_test_count/total_test_count))"
   ]
  },
  {
   "cell_type": "code",
   "execution_count": 48,
   "metadata": {},
   "outputs": [
    {
     "name": "stdout",
     "output_type": "stream",
     "text": [
      "Буква на картинке: Е\n",
      "Точность при обучении: 1.0\n"
     ]
    }
   ],
   "source": [
    "test('Е')"
   ]
  },
  {
   "cell_type": "code",
   "execution_count": null,
   "metadata": {},
   "outputs": [],
   "source": [
    "# Точность на обучении и точность на тесте\n",
    "# Разные критерии останов - просто while изменить for"
   ]
  }
 ],
 "metadata": {
  "kernelspec": {
   "display_name": "Python 3",
   "language": "python",
   "name": "python3"
  },
  "language_info": {
   "codemirror_mode": {
    "name": "ipython",
    "version": 3
   },
   "file_extension": ".py",
   "mimetype": "text/x-python",
   "name": "python",
   "nbconvert_exporter": "python",
   "pygments_lexer": "ipython3",
   "version": "3.10.8"
  },
  "orig_nbformat": 4,
  "vscode": {
   "interpreter": {
    "hash": "fb4569285eef3a3450cb62085a5b1e0da4bce0af555edc33dcf29baf3acc1368"
   }
  }
 },
 "nbformat": 4,
 "nbformat_minor": 2
}
