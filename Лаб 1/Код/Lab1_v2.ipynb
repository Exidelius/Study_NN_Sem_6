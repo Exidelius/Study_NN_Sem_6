{
 "cells": [
  {
   "cell_type": "code",
   "execution_count": 225,
   "metadata": {},
   "outputs": [],
   "source": [
    "import numpy as np\n",
    "from PIL import Image\n",
    "import matplotlib.pyplot as plt"
   ]
  },
  {
   "cell_type": "code",
   "execution_count": 379,
   "metadata": {},
   "outputs": [],
   "source": [
    "PATH = 'C:\\\\Нейронки\\\\Лаб 1\\\\Датасет\\\\'\n",
    "THETA = np.random.rand()\n",
    "NEURONS_COUNT = 4\n",
    "LETTERS = ['С', 'Т', 'Е', 'П']\n",
    "\n",
    "images = list()"
   ]
  },
  {
   "cell_type": "code",
   "execution_count": 607,
   "metadata": {},
   "outputs": [],
   "source": [
    "def image_to_np_array(img):\n",
    "    return np.array(img.convert('L'), dtype='float').flatten() / 255"
   ]
  },
  {
   "cell_type": "code",
   "execution_count": 97,
   "metadata": {},
   "outputs": [],
   "source": [
    "def get_images(path):\n",
    "    current_images = list()\n",
    "\n",
    "    for letter in LETTERS:\n",
    "        current_path = path + letter + '\\\\' + letter\n",
    "        current_images.append(list())\n",
    "        for letter_index in range(1, 5):\n",
    "            current_images[-1].append(image_to_np_array(Image.open(current_path + str(letter_index)+'.png')))\n",
    "\n",
    "    return current_images"
   ]
  },
  {
   "cell_type": "code",
   "execution_count": 98,
   "metadata": {},
   "outputs": [],
   "source": [
    "def split_datas(data):\n",
    "    _train_data = list()\n",
    "    _test_data = list()\n",
    "\n",
    "    for row in data:\n",
    "        _train_data.append(row[:NEURONS_COUNT-1])\n",
    "        _test_data.append(row[NEURONS_COUNT-1])\n",
    "\n",
    "    return _train_data, _test_data"
   ]
  },
  {
   "cell_type": "code",
   "execution_count": 230,
   "metadata": {},
   "outputs": [],
   "source": [
    "def show_letter(data):\n",
    "    plt.matshow(np.reshape(data, (32, 32)))"
   ]
  },
  {
   "cell_type": "code",
   "execution_count": 626,
   "metadata": {},
   "outputs": [],
   "source": [
    "class neuron:\n",
    "    def __init__(self, letter_name):\n",
    "        self._letter_name = letter_name\n",
    "        \n",
    "        self._weights = np.random.rand(1024)\n",
    "        self._previous_weights = np.ones(1024) * -1\n",
    "\n",
    "        self._total_learning_count = 0\n",
    "        self._total_succes_learning_count = 0\n",
    "\n",
    "        self._total_test_count = 0\n",
    "        self._total_success_test_count = 0\n",
    "\n",
    "\n",
    "    def __str__(self):\n",
    "        return self._letter_name\n",
    "\n",
    "\n",
    "    def train(self, input_data) -> int:\n",
    "        is_learned = True\n",
    "        \n",
    "        if not self._is_weights_changed():\n",
    "            return not is_learned\n",
    "\n",
    "        self._change_previous_weights()\n",
    "\n",
    "        for letter_type_index in range(len(input_data)):\n",
    "            for current_letter_index in range(len(input_data[letter_type_index])):\n",
    "                is_determined_as_correct = self._get_output_signal(self._get_weighted_sum(input_data[letter_type_index][current_letter_index]))\n",
    "\n",
    "                self._total_learning_count += 1\n",
    "\n",
    "                if is_determined_as_correct and LETTERS[letter_type_index] != self._letter_name:\n",
    "                    self._weights -= input_data[letter_type_index][current_letter_index]\n",
    "                    return is_learned\n",
    "\n",
    "                if not is_determined_as_correct and LETTERS[letter_type_index] == self._letter_name:\n",
    "                    self._weights += input_data[letter_type_index][current_letter_index]\n",
    "                    return is_learned\n",
    "\n",
    "                self._total_succes_learning_count += 1\n",
    "\n",
    "        return is_learned\n",
    "\n",
    "\n",
    "    def get_learning_accuracy(self):\n",
    "        if self._total_learning_count == 0:\n",
    "            return 0\n",
    "\n",
    "        return self._total_succes_learning_count / self._total_learning_count\n",
    "    \n",
    "    \n",
    "    def get_test_accuracy(self):\n",
    "        if self._total_test_count == 0:\n",
    "            return 0\n",
    "\n",
    "        return self._total_success_test_count/self._total_test_count\n",
    "\n",
    "\n",
    "    def is_current_letter_inputed(self, input_data, letter):\n",
    "        self._total_test_count += 1\n",
    "        \n",
    "        is_output_correct = self._get_output_signal(self._get_weighted_sum(input_data))\n",
    "        is_correct = (is_output_correct and letter == self._letter_name) or ((not is_output_correct) and letter != self._letter_name)\n",
    "\n",
    "        if is_correct:\n",
    "            self._total_success_test_count += 1\n",
    "\n",
    "        return is_output_correct\n",
    "    \n",
    "\n",
    "    def _change_previous_weights(self):\n",
    "        self._previous_weights = np.copy(self._weights)\n",
    "    \n",
    "\n",
    "    def _get_output_signal(self, weighted_sum):\n",
    "        if weighted_sum >= THETA: \n",
    "            return 1\n",
    "        return 0\n",
    "    \n",
    "\n",
    "    def _get_weighted_sum(self, input_data):\n",
    "        return np.sum(np.multiply(input_data, self._weights))\n",
    "    \n",
    "\n",
    "    def _is_weights_changed(self):\n",
    "        return not np.array_equal(self._weights, self._previous_weights)"
   ]
  },
  {
   "cell_type": "code",
   "execution_count": 571,
   "metadata": {},
   "outputs": [],
   "source": [
    "def train_neurals_with_while(neurons, data):\n",
    "    is_train = True\n",
    "\n",
    "    while is_train:\n",
    "        is_train = False\n",
    "        \n",
    "        for neuron in neurons:\n",
    "            is_train += neuron.train(data)"
   ]
  },
  {
   "cell_type": "code",
   "execution_count": 524,
   "metadata": {},
   "outputs": [],
   "source": [
    "def train_neurals_with_epoch(neurons, data, epoch):\n",
    "    for _ in range(epoch):\n",
    "        for neuron in neurons:\n",
    "            neuron.train(data)"
   ]
  },
  {
   "cell_type": "code",
   "execution_count": 525,
   "metadata": {},
   "outputs": [],
   "source": [
    "def get_train_accuracy(neurons):\n",
    "    return np.sum([neurons[index].get_learning_accuracy() for index in range(NEURONS_COUNT)]) / NEURONS_COUNT"
   ]
  },
  {
   "cell_type": "code",
   "execution_count": 526,
   "metadata": {},
   "outputs": [],
   "source": [
    "def get_test_accuracy(neurons):\n",
    "    return np.sum([neurons[index].get_test_accuracy() for index in range(NEURONS_COUNT)]) / NEURONS_COUNT"
   ]
  },
  {
   "cell_type": "code",
   "execution_count": 527,
   "metadata": {},
   "outputs": [],
   "source": [
    "def get_inputed_letter(neurons, letter, data):\n",
    "    letter_to_int = {\"С\" : 0, \"Т\" : 1, \"Е\" : 2, \"П\" : 3}\n",
    "\n",
    "    result = ''\n",
    "    for neuron in neurons:\n",
    "        is_correct = neuron.is_current_letter_inputed(data[letter_to_int[letter]], letter)\n",
    "        if is_correct:\n",
    "            result = str(neuron)\n",
    "\n",
    "    show_letter(data[letter_to_int[letter]])\n",
    "    return f\"Введённая буква - {result}\""
   ]
  },
  {
   "cell_type": "code",
   "execution_count": 627,
   "metadata": {},
   "outputs": [],
   "source": [
    "images = get_images(PATH)\n",
    "\n",
    "train_data, test_data = split_datas(images)\n",
    "\n",
    "neurons = [neuron(letter) for letter in LETTERS]  "
   ]
  },
  {
   "cell_type": "code",
   "execution_count": 628,
   "metadata": {},
   "outputs": [
    {
     "data": {
      "text/plain": [
       "0.7905224963222717"
      ]
     },
     "execution_count": 628,
     "metadata": {},
     "output_type": "execute_result"
    }
   ],
   "source": [
    "train_neurals_with_while(neurons, train_data)\n",
    "get_train_accuracy(neurons)"
   ]
  },
  {
   "cell_type": "code",
   "execution_count": 605,
   "metadata": {},
   "outputs": [
    {
     "data": {
      "text/plain": [
       "0.8240707279297884"
      ]
     },
     "execution_count": 605,
     "metadata": {},
     "output_type": "execute_result"
    }
   ],
   "source": [
    "train_neurals_with_epoch(neurons, train_data, 100)\n",
    "get_train_accuracy(neurons)"
   ]
  },
  {
   "cell_type": "code",
   "execution_count": 632,
   "metadata": {},
   "outputs": [
    {
     "name": "stdout",
     "output_type": "stream",
     "text": [
      "Введённая буква - \n"
     ]
    },
    {
     "data": {
      "text/plain": [
       "0.9375"
      ]
     },
     "execution_count": 632,
     "metadata": {},
     "output_type": "execute_result"
    },
    {
     "data": {
      "image/png": "[encoded data removed]",
      "text/plain": [
       "<Figure size 480x480 with 1 Axes>"
      ]
     },
     "metadata": {},
     "output_type": "display_data"
    }
   ],
   "source": [
    "print(get_inputed_letter(neurons, \"Е\", test_data))\n",
    "get_test_accuracy(neurons)"
   ]
  },
  {
   "cell_type": "code",
   "execution_count": null,
   "metadata": {},
   "outputs": [],
   "source": []
  }
 ],
 "metadata": {
  "kernelspec": {
   "display_name": "Python 3",
   "language": "python",
   "name": "python3"
  },
  "language_info": {
   "codemirror_mode": {
    "name": "ipython",
    "version": 3
   },
   "file_extension": ".py",
   "mimetype": "text/x-python",
   "name": "python",
   "nbconvert_exporter": "python",
   "pygments_lexer": "ipython3",
   "version": "3.10.8"
  },
  "orig_nbformat": 4
 },
 "nbformat": 4,
 "nbformat_minor": 2
}
